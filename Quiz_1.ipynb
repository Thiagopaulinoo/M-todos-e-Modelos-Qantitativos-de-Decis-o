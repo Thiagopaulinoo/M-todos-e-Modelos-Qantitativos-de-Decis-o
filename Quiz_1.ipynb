{
  "nbformat": 4,
  "nbformat_minor": 0,
  "metadata": {
    "colab": {
      "provenance": [],
      "authorship_tag": "ABX9TyMWuK7YqV6us4jPIceVgsLW",
      "include_colab_link": true
    },
    "kernelspec": {
      "name": "python3",
      "display_name": "Python 3"
    },
    "language_info": {
      "name": "python"
    }
  },
  "cells": [
    {
      "cell_type": "markdown",
      "metadata": {
        "id": "view-in-github",
        "colab_type": "text"
      },
      "source": [
        "<a href=\"https://colab.research.google.com/github/Thiagopaulinoo/M-todos-e-Modelos-Qantitativos-de-Decis-o/blob/main/Quiz_1.ipynb\" target=\"_parent\"><img src=\"https://colab.research.google.com/assets/colab-badge.svg\" alt=\"Open In Colab\"/></a>"
      ]
    },
    {
      "cell_type": "code",
      "source": [
        "x = 'Olá,'\n",
        "y = ' Mundo'\n",
        "print (x + y)"
      ],
      "metadata": {
        "colab": {
          "base_uri": "https://localhost:8080/"
        },
        "id": "sUVBGx4zspqx",
        "outputId": "cd75fe4d-ad6b-4578-bad4-2090357bde60"
      },
      "execution_count": 231,
      "outputs": [
        {
          "output_type": "stream",
          "name": "stdout",
          "text": [
            "Olá, Mundo\n"
          ]
        }
      ]
    },
    {
      "cell_type": "code",
      "source": [
        "Nome = input('Qual é o seu nome? ')\n",
        "print (\"Olá, \" + Nome.capitalize())"
      ],
      "metadata": {
        "colab": {
          "base_uri": "https://localhost:8080/"
        },
        "id": "DTbsp4Bcsyiv",
        "outputId": "c9ac493b-660d-46fe-c8c7-ebdc34b0ed3e"
      },
      "execution_count": 232,
      "outputs": [
        {
          "output_type": "stream",
          "name": "stdout",
          "text": [
            "Qual é o seu nome? thiago\n",
            "Olá, Thiago\n"
          ]
        }
      ]
    },
    {
      "cell_type": "code",
      "source": [
        "x = \"Python\"\n",
        "\n",
        "y = \"O'Reilly\"\n",
        "\n",
        "string1 = '\"Yes\", they said ' + x + ' is ' + y + '.'\n",
        "\n",
        "string2 = '\"Isn\\'t it?\", they said.'\n",
        "\n",
        "print(string1 + \"\\n\" \n",
        "      + string2 + \"\\n\" \n",
        "      + x*3 + \"\\n\" \n",
        "      + x[0:2] + ' ' +  y[4:8] + ' ' +  y[0:4] + ' ' + x[2:6] )  \n",
        "\n",
        "\n",
        "\n"
      ],
      "metadata": {
        "colab": {
          "base_uri": "https://localhost:8080/"
        },
        "id": "bzi28rKCuoHh",
        "outputId": "c7f9f53e-9290-4a44-9c1d-3cc5bd91f1dc"
      },
      "execution_count": 184,
      "outputs": [
        {
          "output_type": "stream",
          "name": "stdout",
          "text": [
            "\"Yes\", they said Python is O'Reilly.\n",
            "\"Isn't it?\", they said.\n",
            "PythonPythonPython\n",
            "Py illy O'Re thon\n"
          ]
        }
      ]
    },
    {
      "cell_type": "code",
      "source": [
        "x1 = input('Entre o valor de x: ')\n",
        "\n",
        "y1 = input('Entre o valor de y: ')\n",
        "\n",
        "x = int(x1)\n",
        "\n",
        "y = int(y1)\n",
        "\n",
        "soma = x + y\n",
        "\n",
        "subtração = x - y\n",
        "\n",
        "multiplicação = x * y\n",
        "\n",
        "divisão = x / y\n",
        "\n",
        "divpiso = x // y\n",
        "\n",
        "restodiv = x % y\n",
        "\n",
        "exp = x ** y\n",
        "\n",
        "\n",
        " \n",
        "print(soma, subtração, multiplicação, divisão, divpiso, restodiv, exp)\n",
        "\n",
        "\n",
        "\n",
        "\n",
        "\n"
      ],
      "metadata": {
        "colab": {
          "base_uri": "https://localhost:8080/"
        },
        "id": "MBuAutovemeh",
        "outputId": "9bbfa181-3203-47b6-bd4f-e1624ded0085"
      },
      "execution_count": 230,
      "outputs": [
        {
          "output_type": "stream",
          "name": "stdout",
          "text": [
            "Entre o valor de x: 1\n",
            "Entre o valor de y: 2\n",
            "3 -1 2 0.5 0 1 1\n"
          ]
        }
      ]
    }
  ]
}